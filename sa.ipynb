{
 "cells": [
  {
   "cell_type": "code",
   "execution_count": 1,
   "id": "b1bdeda7",
   "metadata": {},
   "outputs": [
    {
     "name": "stdout",
     "output_type": "stream",
     "text": [
      "Data PreProcessing done!\n"
     ]
    }
   ],
   "source": [
    "from sklearn.feature_extraction.text import TfidfVectorizer\n",
    "from sklearn.linear_model import LogisticRegression\n",
    "from sklearn.model_selection import train_test_split\n",
    "import re\n",
    "\n",
    "# Remove the numbers from text\n",
    "def remove_numbers(data):\n",
    "    result = re.sub(r'\\d+', '', data)\n",
    "    return result\n",
    "\n",
    "# Remove Urls from the text\n",
    "def remove_URL(data):\n",
    "    return re.sub(r\"http\\S+\", \"\", data)\n",
    "\n",
    "\n",
    "Y = []\n",
    "X = []\n",
    "# Read train file and create X and Y list\n",
    "with open('./train.dat') as f:\n",
    "    for line in f:\n",
    "        Y.append(line.split()[0])\n",
    "        X.append(remove_URL(remove_numbers(line[2:])))\n",
    "\n",
    "testData = []\n",
    "\n",
    "# Read test file for prediction\n",
    "with open('./test.dat') as f:\n",
    "    for line in f:\n",
    "        testData.append(line)\n",
    "\n",
    "\n",
    "# Tf-Idf vectorizer with unigram and bigram\n",
    "vectorizer = TfidfVectorizer(ngram_range=(1, 2))\n",
    "X_train_vector = vectorizer.fit_transform(X)\n",
    "\n",
    "print(\"Data PreProcessing done!\")\n"
   ]
  },
  {
   "cell_type": "code",
   "execution_count": 2,
   "id": "641acdf8",
   "metadata": {},
   "outputs": [
    {
     "name": "stdout",
     "output_type": "stream",
     "text": [
      "Model Training Done\n",
      "Output file created\n"
     ]
    }
   ],
   "source": [
    "\n",
    "# LogisticRegression model with max iteration to avoid convergence warning\n",
    "model = LogisticRegression(max_iter=2000)\n",
    "\n",
    "# Train Model\n",
    "model.fit(X_train_vector, Y)\n",
    "\n",
    "print(\"Model Training Done\")\n",
    "\n",
    "test_vector = vectorizer.transform(testData)\n",
    "\n",
    "# Predict sentiment of test reviews\n",
    "predictedY = model.predict(test_vector)\n",
    "\n",
    "# Write to ouput file\n",
    "fl = open(\"predictedScores.dat\",\"w\")\n",
    "\n",
    "for score in predictedY:\n",
    "    fl.write(score)\n",
    "    fl.write(\"\\n\")\n",
    "\n",
    "fl.close()\n",
    "\n",
    "print(\"Output file created\")"
   ]
  },
  {
   "cell_type": "code",
   "execution_count": null,
   "id": "c2edd2b6",
   "metadata": {},
   "outputs": [],
   "source": []
  }
 ],
 "metadata": {
  "kernelspec": {
   "display_name": "Python 3 (ipykernel)",
   "language": "python",
   "name": "python3"
  },
  "language_info": {
   "codemirror_mode": {
    "name": "ipython",
    "version": 3
   },
   "file_extension": ".py",
   "mimetype": "text/x-python",
   "name": "python",
   "nbconvert_exporter": "python",
   "pygments_lexer": "ipython3",
   "version": "3.10.6"
  }
 },
 "nbformat": 4,
 "nbformat_minor": 5
}
